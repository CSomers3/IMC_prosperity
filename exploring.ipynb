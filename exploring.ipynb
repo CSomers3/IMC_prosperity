{
 "cells": [
  {
   "cell_type": "code",
   "execution_count": 1,
   "metadata": {
    "collapsed": false
   },
   "outputs": [],
   "source": [
    "import matplotlib.pyplot as plt\n",
    "import os\n",
    "import pandas as pd"
   ]
  },
  {
   "cell_type": "code",
   "execution_count": 2,
   "metadata": {
    "collapsed": true
   },
   "outputs": [],
   "source": [
    "## Open all csvs in the folder data and save them into a dictionary (filename = key, df = value)\n",
    "data: dict[str, pd.DataFrame] = {}\n",
    "for file in os.listdir(\"all_data_prices\"):\n",
    "    if file.endswith(\".csv\") and file.startswith(\"prices\"):\n",
    "        data[file] = pd.read_csv(\"all_data_prices/\" + file, sep=\";\")"
   ]
  },
  {
   "cell_type": "code",
   "execution_count": 3,
   "metadata": {},
   "outputs": [
    {
     "name": "stdout",
     "output_type": "stream",
     "text": [
      "Average timestamp when mid_price of BERRIES is highest: 558150.0\n"
     ]
    }
   ],
   "source": [
    "# Find average time when the mid_price of BERRIES are the highest\n",
    "\n",
    "list_timestamp_max = []\n",
    "for file in data:\n",
    "    # filter column that aren't berries\n",
    "    berries_data = data[file][data[file][\"product\"] == \"BERRIES\"].copy()\n",
    "    # moving average for berries data\n",
    "    berries_data[\"mid_price\"] = berries_data[\"mid_price\"].rolling(1000).mean()\n",
    "    if not berries_data.empty:\n",
    "        # change idx to timestamp column\n",
    "        berries_data.index = berries_data[\"timestamp\"]\n",
    "        # find the timestamp of the highest mid_price\n",
    "        list_timestamp_max.append(berries_data[\"mid_price\"].idxmax())\n",
    "\n",
    "if list_timestamp_max:\n",
    "    # calculate average time\n",
    "    avg_time = sum(list_timestamp_max) / len(list_timestamp_max)\n",
    "    print(\"Average timestamp when mid_price of BERRIES is highest:\", avg_time)\n",
    "else:\n",
    "    print(\"No rows with product BERRIES found in the data.\")\n"
   ]
  },
  {
   "cell_type": "code",
   "execution_count": 4,
   "metadata": {
    "collapsed": false
   },
   "outputs": [
    {
     "name": "stdout",
     "output_type": "stream",
     "text": [
      "prices_round_1_day_-2.csv\n",
      "prices_round_2_day_-1.csv\n",
      "prices_round_3_day_0.csv\n",
      "prices_round_4_day_1.csv\n",
      "prices_round_4_day_2.csv\n",
      "prices_round_4_day_3.csv\n"
     ]
    }
   ],
   "source": [
    "# Find the total number of unique products across all files\n",
    "unique_products = set()\n",
    "for file in data:\n",
    "    unique_products.update(data[file][\"product\"].unique())\n",
    "num_products = len(unique_products)\n",
    "\n",
    "# Calculate the number of rows and columns needed for the grid\n",
    "num_rows = int(num_products ** 0.5)\n",
    "num_cols = num_products // num_rows + (1 if num_products % num_rows > 0 else 0)\n",
    "\n",
    "## For all files in data, plot, for each product, midprice as a function of time\n",
    "for file_idx, file in enumerate(data):\n",
    "    print(file)\n",
    "    # Create a new figure for each file\n",
    "    plt.figure(file_idx, figsize=(15, 15))\n",
    "    \n",
    "    # Iterate through each unique product and plot the midprice as a function of time\n",
    "    for idx, product in enumerate(data[file][\"product\"].unique()):\n",
    "        x = data[file][data[file][\"product\"] == product][\"timestamp\"]\n",
    "        y = data[file][data[file][\"product\"] == product][\"mid_price\"]\n",
    "    \n",
    "        # replace y by a moving average of y\n",
    "        y = y.rolling(100).mean()\n",
    "        \n",
    "        plt.subplot(num_rows, num_cols, idx + 1)\n",
    "        plt.plot(x, y, label=product)\n",
    "        plt.legend()\n",
    "    \n",
    "    # Show the figure for the current file\n",
    "    plt.savefig(\"plots/\" + file + \".png\")\n",
    "    plt.close()\n"
   ]
  },
  {
   "cell_type": "code",
   "execution_count": null,
   "metadata": {},
   "outputs": [],
   "source": []
  }
 ],
 "metadata": {
  "kernelspec": {
   "display_name": "Python 3",
   "language": "python",
   "name": "python3"
  },
  "language_info": {
   "codemirror_mode": {
    "name": "ipython",
    "version": 3
   },
   "file_extension": ".py",
   "mimetype": "text/x-python",
   "name": "python",
   "nbconvert_exporter": "python",
   "pygments_lexer": "ipython3",
   "version": "3.11.1"
  }
 },
 "nbformat": 4,
 "nbformat_minor": 0
}
